{
 "cells": [
  {
   "cell_type": "code",
   "execution_count": 1,
   "metadata": {},
   "outputs": [],
   "source": [
    "def polymerization(template, dico, step):\n",
    "    for i in range(step):\n",
    "        mot = ''\n",
    "        for i,j in zip(range(len(template)-1), range(1,len(template))):\n",
    "            mot += dico[template[i:j+1]] + template[i:j+1][1]\n",
    "        template = template[0] + mot\n",
    "    return template\n",
    "\n"
   ]
  },
  {
   "cell_type": "code",
   "execution_count": 2,
   "metadata": {},
   "outputs": [
    {
     "data": {
      "text/plain": [
       "{'SB': 'B',\n",
       " 'HH': 'P',\n",
       " 'VF': 'N',\n",
       " 'BS': 'S',\n",
       " 'NC': 'C',\n",
       " 'BF': 'H',\n",
       " 'BN': 'H',\n",
       " 'SP': 'H',\n",
       " 'BK': 'H',\n",
       " 'FF': 'N',\n",
       " 'VN': 'B',\n",
       " 'FN': 'C',\n",
       " 'FS': 'S',\n",
       " 'PP': 'F',\n",
       " 'ON': 'H',\n",
       " 'FV': 'F',\n",
       " 'KO': 'F',\n",
       " 'PK': 'H',\n",
       " 'VB': 'S',\n",
       " 'HS': 'B',\n",
       " 'NV': 'O',\n",
       " 'PN': 'S',\n",
       " 'VH': 'B',\n",
       " 'OS': 'P',\n",
       " 'BP': 'H',\n",
       " 'OV': 'B',\n",
       " 'HK': 'S',\n",
       " 'NN': 'K',\n",
       " 'SV': 'C',\n",
       " 'PB': 'F',\n",
       " 'SK': 'F',\n",
       " 'FB': 'S',\n",
       " 'NB': 'K',\n",
       " 'HF': 'P',\n",
       " 'FK': 'K',\n",
       " 'KV': 'P',\n",
       " 'PV': 'F',\n",
       " 'BC': 'S',\n",
       " 'FO': 'N',\n",
       " 'HC': 'F',\n",
       " 'CP': 'B',\n",
       " 'KK': 'F',\n",
       " 'PC': 'S',\n",
       " 'HN': 'O',\n",
       " 'SH': 'H',\n",
       " 'CK': 'P',\n",
       " 'CO': 'F',\n",
       " 'HP': 'K',\n",
       " 'PS': 'C',\n",
       " 'KP': 'F',\n",
       " 'OF': 'K',\n",
       " 'KS': 'F',\n",
       " 'NO': 'V',\n",
       " 'CB': 'K',\n",
       " 'NF': 'N',\n",
       " 'SF': 'F',\n",
       " 'SC': 'P',\n",
       " 'FC': 'V',\n",
       " 'BV': 'B',\n",
       " 'SS': 'O',\n",
       " 'KC': 'K',\n",
       " 'FH': 'C',\n",
       " 'OP': 'C',\n",
       " 'CF': 'K',\n",
       " 'VO': 'V',\n",
       " 'VK': 'H',\n",
       " 'KH': 'O',\n",
       " 'NP': 'V',\n",
       " 'NH': 'O',\n",
       " 'NS': 'V',\n",
       " 'BH': 'C',\n",
       " 'CH': 'S',\n",
       " 'CC': 'F',\n",
       " 'CS': 'P',\n",
       " 'SN': 'F',\n",
       " 'BO': 'S',\n",
       " 'NK': 'S',\n",
       " 'OO': 'P',\n",
       " 'VV': 'F',\n",
       " 'FP': 'V',\n",
       " 'OK': 'C',\n",
       " 'SO': 'H',\n",
       " 'KN': 'P',\n",
       " 'HO': 'O',\n",
       " 'PO': 'H',\n",
       " 'VS': 'N',\n",
       " 'PF': 'N',\n",
       " 'CV': 'F',\n",
       " 'BB': 'H',\n",
       " 'VC': 'H',\n",
       " 'HV': 'B',\n",
       " 'CN': 'S',\n",
       " 'OH': 'K',\n",
       " 'KF': 'K',\n",
       " 'HB': 'S',\n",
       " 'OC': 'H',\n",
       " 'KB': 'P',\n",
       " 'OB': 'C',\n",
       " 'VP': 'C',\n",
       " 'PH': 'K'}"
      ]
     },
     "execution_count": 2,
     "metadata": {},
     "output_type": "execute_result"
    }
   ],
   "source": [
    "with open('/home/dimitri.caputo@Digital-Grenoble.local/Documents/Algo/input_day14', 'r') as f:\n",
    "    file = f.readlines()\n",
    "lines = []\n",
    "for line in file:\n",
    "    lines.append(line.strip('\\n'))\n",
    "\n",
    "monomer = lines[0]\n",
    "\n",
    "lines_for_dico = lines[2:]\n",
    "dico_insert = {}\n",
    "for line in lines_for_dico:\n",
    "    dico_insert[line[:2]] = line[-1]\n",
    "\n",
    "dico_insert"
   ]
  },
  {
   "cell_type": "code",
   "execution_count": 3,
   "metadata": {},
   "outputs": [],
   "source": [
    "polymer = polymerization(monomer, dico_insert, 10)"
   ]
  },
  {
   "cell_type": "code",
   "execution_count": 4,
   "metadata": {},
   "outputs": [
    {
     "name": "stdout",
     "output_type": "stream",
     "text": [
      "Il y a 2833 fois la lettre F dans polymer\n",
      "Il y a 1666 fois la lettre C dans polymer\n",
      "Il y a 977 fois la lettre O dans polymer\n",
      "Il y a 3461 fois la lettre K dans polymer\n",
      "Il y a 749 fois la lettre V dans polymer\n",
      "Il y a 1239 fois la lettre N dans polymer\n",
      "Il y a 1910 fois la lettre P dans polymer\n",
      "Il y a 2116 fois la lettre H dans polymer\n",
      "Il y a 1741 fois la lettre B dans polymer\n",
      "Il y a 2765 fois la lettre S dans polymer\n"
     ]
    },
    {
     "data": {
      "text/plain": [
       "{'F': 2833,\n",
       " 'C': 1666,\n",
       " 'O': 977,\n",
       " 'K': 3461,\n",
       " 'V': 749,\n",
       " 'N': 1239,\n",
       " 'P': 1910,\n",
       " 'H': 2116,\n",
       " 'B': 1741,\n",
       " 'S': 2765}"
      ]
     },
     "execution_count": 4,
     "metadata": {},
     "output_type": "execute_result"
    }
   ],
   "source": [
    "dico_quant = {letter:polymer.count(letter) for letter in list(set(list(polymer)))}\n",
    "\n",
    "for key in dico_quant.keys():\n",
    "    print(f'Il y a {dico_quant[key]} fois la lettre {key} dans polymer')\n",
    "\n",
    "dico_quant"
   ]
  },
  {
   "cell_type": "code",
   "execution_count": 5,
   "metadata": {},
   "outputs": [
    {
     "data": {
      "text/plain": [
       "2712"
      ]
     },
     "execution_count": 5,
     "metadata": {},
     "output_type": "execute_result"
    }
   ],
   "source": [
    "max(dico_quant.values())-min(dico_quant.values())"
   ]
  },
  {
   "cell_type": "code",
   "execution_count": null,
   "metadata": {},
   "outputs": [
    {
     "ename": "KeyboardInterrupt",
     "evalue": "",
     "output_type": "error",
     "traceback": [
      "\u001b[0;31m---------------------------------------------------------------------------\u001b[0m",
      "\u001b[0;31mKeyboardInterrupt\u001b[0m                         Traceback (most recent call last)",
      "Cell \u001b[0;32mIn[6], line 1\u001b[0m\n\u001b[0;32m----> 1\u001b[0m bigger \u001b[38;5;241m=\u001b[39m polymerization(monomer, dico_insert, \u001b[38;5;241m40\u001b[39m)\n",
      "Cell \u001b[0;32mIn[1], line 5\u001b[0m, in \u001b[0;36mpolymerization\u001b[0;34m(template, dico, step)\u001b[0m\n\u001b[1;32m      3\u001b[0m     mot \u001b[38;5;241m=\u001b[39m \u001b[38;5;124m'\u001b[39m\u001b[38;5;124m'\u001b[39m\n\u001b[1;32m      4\u001b[0m     \u001b[38;5;28;01mfor\u001b[39;00m i,j \u001b[38;5;129;01min\u001b[39;00m \u001b[38;5;28mzip\u001b[39m(\u001b[38;5;28mrange\u001b[39m(\u001b[38;5;28mlen\u001b[39m(template)\u001b[38;5;241m-\u001b[39m\u001b[38;5;241m1\u001b[39m), \u001b[38;5;28mrange\u001b[39m(\u001b[38;5;241m1\u001b[39m,\u001b[38;5;28mlen\u001b[39m(template))):\n\u001b[0;32m----> 5\u001b[0m         mot \u001b[38;5;241m+\u001b[39m\u001b[38;5;241m=\u001b[39m dico[template[i:j\u001b[38;5;241m+\u001b[39m\u001b[38;5;241m1\u001b[39m]] \u001b[38;5;241m+\u001b[39m template[i:j\u001b[38;5;241m+\u001b[39m\u001b[38;5;241m1\u001b[39m][\u001b[38;5;241m1\u001b[39m]\n\u001b[1;32m      6\u001b[0m     template \u001b[38;5;241m=\u001b[39m template[\u001b[38;5;241m0\u001b[39m] \u001b[38;5;241m+\u001b[39m mot\n\u001b[1;32m      7\u001b[0m \u001b[38;5;28;01mreturn\u001b[39;00m template\n",
      "\u001b[0;31mKeyboardInterrupt\u001b[0m: "
     ]
    }
   ],
   "source": [
    "modif pour le module git"
   ]
  },
  {
   "cell_type": "code",
   "execution_count": null,
   "metadata": {},
   "outputs": [],
   "source": [
    "autre essai"
   ]
  }
 ],
 "metadata": {
  "kernelspec": {
   "display_name": "base",
   "language": "python",
   "name": "python3"
  },
  "language_info": {
   "codemirror_mode": {
    "name": "ipython",
    "version": 3
   },
   "file_extension": ".py",
   "mimetype": "text/x-python",
   "name": "python",
   "nbconvert_exporter": "python",
   "pygments_lexer": "ipython3",
   "version": "3.12.7"
  }
 },
 "nbformat": 4,
 "nbformat_minor": 2
}
